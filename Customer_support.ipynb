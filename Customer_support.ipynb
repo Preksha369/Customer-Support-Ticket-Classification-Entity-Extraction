{
  "nbformat": 4,
  "nbformat_minor": 0,
  "metadata": {
    "colab": {
      "provenance": []
    },
    "kernelspec": {
      "name": "python3",
      "display_name": "Python 3"
    },
    "language_info": {
      "name": "python"
    }
  },
  "cells": [
    {
      "cell_type": "markdown",
      "source": [
        "#Customer Support Ticket Classification & Entity Extraction"
      ],
      "metadata": {
        "id": "B6tGWqOfAexK"
      }
    },
    {
      "cell_type": "markdown",
      "source": [
        "##Introduction"
      ],
      "metadata": {
        "id": "ZaHuioMZAm7A"
      }
    },
    {
      "cell_type": "markdown",
      "source": [
        "In this notebook, we build a complete machine learning pipeline to automate the analysis of customer support tickets. The goal is to classify each ticket based on its issue type and urgency level, while also extracting relevant entities such as product names, dates, and complaint keywords.\n",
        "\n",
        "The workflow involves several key steps: data loading and preprocessing, traditional NLP-based feature engineering (including TF-IDF, sentiment score, and text length), training multi-class classifiers for issue and urgency prediction, and performing rule-based entity extraction. Finally, a Gradio interface is provided for users to interact with the model in real time.\n",
        "\n",
        "This solution demonstrates how classical machine learning models combined with smart preprocessing and feature engineering can yield interpretable and practical results for real-world support automation."
      ],
      "metadata": {
        "id": "Isnyx30SAsbw"
      }
    },
    {
      "cell_type": "markdown",
      "source": [
        "To begin with, we install the Gradio library using pip. Gradio is a Python package that helps us build simple and interactive web applications for machine learning models. By using Gradio, we’ll be able to create a user interface where users can enter a raw support ticket text and instantly see the predicted issue type, urgency level, and extracted key entities like product names or dates. This makes our model more accessible and user-friendly, especially for non-technical users who just want to test how the system performs without diving into the code."
      ],
      "metadata": {
        "id": "enQqL34bNdUm"
      }
    },
    {
      "cell_type": "code",
      "source": [
        "!pip install gradio\n"
      ],
      "metadata": {
        "colab": {
          "base_uri": "https://localhost:8080/"
        },
        "id": "NJ367HpBD1iW",
        "outputId": "b55336ce-9faf-4947-b0a6-78048d34a9b0"
      },
      "execution_count": 1,
      "outputs": [
        {
          "output_type": "stream",
          "name": "stdout",
          "text": [
            "Requirement already satisfied: gradio in /usr/local/lib/python3.11/dist-packages (5.31.0)\n",
            "Requirement already satisfied: aiofiles<25.0,>=22.0 in /usr/local/lib/python3.11/dist-packages (from gradio) (24.1.0)\n",
            "Requirement already satisfied: anyio<5.0,>=3.0 in /usr/local/lib/python3.11/dist-packages (from gradio) (4.9.0)\n",
            "Requirement already satisfied: fastapi<1.0,>=0.115.2 in /usr/local/lib/python3.11/dist-packages (from gradio) (0.115.12)\n",
            "Requirement already satisfied: ffmpy in /usr/local/lib/python3.11/dist-packages (from gradio) (0.5.0)\n",
            "Requirement already satisfied: gradio-client==1.10.1 in /usr/local/lib/python3.11/dist-packages (from gradio) (1.10.1)\n",
            "Requirement already satisfied: groovy~=0.1 in /usr/local/lib/python3.11/dist-packages (from gradio) (0.1.2)\n",
            "Requirement already satisfied: httpx>=0.24.1 in /usr/local/lib/python3.11/dist-packages (from gradio) (0.28.1)\n",
            "Requirement already satisfied: huggingface-hub>=0.28.1 in /usr/local/lib/python3.11/dist-packages (from gradio) (0.32.2)\n",
            "Requirement already satisfied: jinja2<4.0 in /usr/local/lib/python3.11/dist-packages (from gradio) (3.1.6)\n",
            "Requirement already satisfied: markupsafe<4.0,>=2.0 in /usr/local/lib/python3.11/dist-packages (from gradio) (3.0.2)\n",
            "Requirement already satisfied: numpy<3.0,>=1.0 in /usr/local/lib/python3.11/dist-packages (from gradio) (2.0.2)\n",
            "Requirement already satisfied: orjson~=3.0 in /usr/local/lib/python3.11/dist-packages (from gradio) (3.10.18)\n",
            "Requirement already satisfied: packaging in /usr/local/lib/python3.11/dist-packages (from gradio) (24.2)\n",
            "Requirement already satisfied: pandas<3.0,>=1.0 in /usr/local/lib/python3.11/dist-packages (from gradio) (2.2.2)\n",
            "Requirement already satisfied: pillow<12.0,>=8.0 in /usr/local/lib/python3.11/dist-packages (from gradio) (11.2.1)\n",
            "Requirement already satisfied: pydantic<2.12,>=2.0 in /usr/local/lib/python3.11/dist-packages (from gradio) (2.11.5)\n",
            "Requirement already satisfied: pydub in /usr/local/lib/python3.11/dist-packages (from gradio) (0.25.1)\n",
            "Requirement already satisfied: python-multipart>=0.0.18 in /usr/local/lib/python3.11/dist-packages (from gradio) (0.0.20)\n",
            "Requirement already satisfied: pyyaml<7.0,>=5.0 in /usr/local/lib/python3.11/dist-packages (from gradio) (6.0.2)\n",
            "Requirement already satisfied: ruff>=0.9.3 in /usr/local/lib/python3.11/dist-packages (from gradio) (0.11.12)\n",
            "Requirement already satisfied: safehttpx<0.2.0,>=0.1.6 in /usr/local/lib/python3.11/dist-packages (from gradio) (0.1.6)\n",
            "Requirement already satisfied: semantic-version~=2.0 in /usr/local/lib/python3.11/dist-packages (from gradio) (2.10.0)\n",
            "Requirement already satisfied: starlette<1.0,>=0.40.0 in /usr/local/lib/python3.11/dist-packages (from gradio) (0.46.2)\n",
            "Requirement already satisfied: tomlkit<0.14.0,>=0.12.0 in /usr/local/lib/python3.11/dist-packages (from gradio) (0.13.2)\n",
            "Requirement already satisfied: typer<1.0,>=0.12 in /usr/local/lib/python3.11/dist-packages (from gradio) (0.16.0)\n",
            "Requirement already satisfied: typing-extensions~=4.0 in /usr/local/lib/python3.11/dist-packages (from gradio) (4.13.2)\n",
            "Requirement already satisfied: uvicorn>=0.14.0 in /usr/local/lib/python3.11/dist-packages (from gradio) (0.34.2)\n",
            "Requirement already satisfied: fsspec in /usr/local/lib/python3.11/dist-packages (from gradio-client==1.10.1->gradio) (2025.3.2)\n",
            "Requirement already satisfied: websockets<16.0,>=10.0 in /usr/local/lib/python3.11/dist-packages (from gradio-client==1.10.1->gradio) (15.0.1)\n",
            "Requirement already satisfied: idna>=2.8 in /usr/local/lib/python3.11/dist-packages (from anyio<5.0,>=3.0->gradio) (3.10)\n",
            "Requirement already satisfied: sniffio>=1.1 in /usr/local/lib/python3.11/dist-packages (from anyio<5.0,>=3.0->gradio) (1.3.1)\n",
            "Requirement already satisfied: certifi in /usr/local/lib/python3.11/dist-packages (from httpx>=0.24.1->gradio) (2025.4.26)\n",
            "Requirement already satisfied: httpcore==1.* in /usr/local/lib/python3.11/dist-packages (from httpx>=0.24.1->gradio) (1.0.9)\n",
            "Requirement already satisfied: h11>=0.16 in /usr/local/lib/python3.11/dist-packages (from httpcore==1.*->httpx>=0.24.1->gradio) (0.16.0)\n",
            "Requirement already satisfied: filelock in /usr/local/lib/python3.11/dist-packages (from huggingface-hub>=0.28.1->gradio) (3.18.0)\n",
            "Requirement already satisfied: requests in /usr/local/lib/python3.11/dist-packages (from huggingface-hub>=0.28.1->gradio) (2.32.3)\n",
            "Requirement already satisfied: tqdm>=4.42.1 in /usr/local/lib/python3.11/dist-packages (from huggingface-hub>=0.28.1->gradio) (4.67.1)\n",
            "Requirement already satisfied: hf-xet<2.0.0,>=1.1.2 in /usr/local/lib/python3.11/dist-packages (from huggingface-hub>=0.28.1->gradio) (1.1.2)\n",
            "Requirement already satisfied: python-dateutil>=2.8.2 in /usr/local/lib/python3.11/dist-packages (from pandas<3.0,>=1.0->gradio) (2.9.0.post0)\n",
            "Requirement already satisfied: pytz>=2020.1 in /usr/local/lib/python3.11/dist-packages (from pandas<3.0,>=1.0->gradio) (2025.2)\n",
            "Requirement already satisfied: tzdata>=2022.7 in /usr/local/lib/python3.11/dist-packages (from pandas<3.0,>=1.0->gradio) (2025.2)\n",
            "Requirement already satisfied: annotated-types>=0.6.0 in /usr/local/lib/python3.11/dist-packages (from pydantic<2.12,>=2.0->gradio) (0.7.0)\n",
            "Requirement already satisfied: pydantic-core==2.33.2 in /usr/local/lib/python3.11/dist-packages (from pydantic<2.12,>=2.0->gradio) (2.33.2)\n",
            "Requirement already satisfied: typing-inspection>=0.4.0 in /usr/local/lib/python3.11/dist-packages (from pydantic<2.12,>=2.0->gradio) (0.4.1)\n",
            "Requirement already satisfied: click>=8.0.0 in /usr/local/lib/python3.11/dist-packages (from typer<1.0,>=0.12->gradio) (8.2.1)\n",
            "Requirement already satisfied: shellingham>=1.3.0 in /usr/local/lib/python3.11/dist-packages (from typer<1.0,>=0.12->gradio) (1.5.4)\n",
            "Requirement already satisfied: rich>=10.11.0 in /usr/local/lib/python3.11/dist-packages (from typer<1.0,>=0.12->gradio) (13.9.4)\n",
            "Requirement already satisfied: six>=1.5 in /usr/local/lib/python3.11/dist-packages (from python-dateutil>=2.8.2->pandas<3.0,>=1.0->gradio) (1.17.0)\n",
            "Requirement already satisfied: markdown-it-py>=2.2.0 in /usr/local/lib/python3.11/dist-packages (from rich>=10.11.0->typer<1.0,>=0.12->gradio) (3.0.0)\n",
            "Requirement already satisfied: pygments<3.0.0,>=2.13.0 in /usr/local/lib/python3.11/dist-packages (from rich>=10.11.0->typer<1.0,>=0.12->gradio) (2.19.1)\n",
            "Requirement already satisfied: charset-normalizer<4,>=2 in /usr/local/lib/python3.11/dist-packages (from requests->huggingface-hub>=0.28.1->gradio) (3.4.2)\n",
            "Requirement already satisfied: urllib3<3,>=1.21.1 in /usr/local/lib/python3.11/dist-packages (from requests->huggingface-hub>=0.28.1->gradio) (2.4.0)\n",
            "Requirement already satisfied: mdurl~=0.1 in /usr/local/lib/python3.11/dist-packages (from markdown-it-py>=2.2.0->rich>=10.11.0->typer<1.0,>=0.12->gradio) (0.1.2)\n"
          ]
        }
      ]
    },
    {
      "cell_type": "markdown",
      "source": [
        "Next, we import all the necessary libraries required for data processing, natural language processing (NLP), model building, and visualization.\n",
        "\n",
        "We start by importing Pandas and NumPy for data manipulation and numerical operations. Then, we bring in key NLP tools from NLTK (like stopwords, tokenizers, and lemmatizers), which will help us clean and process the raw text data. To ensure everything works smoothly, we also download essential NLTK resources such as the tokenizer (punkt), stopword list, and the WordNet lemmatizer dictionary.\n",
        "\n",
        "We use regular expressions (re) and string utilities to clean and normalize text, and later, we use TF-IDF Vectorizer from scikit-learn to convert the processed text into numerical features.\n",
        "\n",
        "For machine learning tasks, we import LabelEncoder (to convert categorical labels into numeric form), train_test_split (to split our dataset), and RandomForestClassifier (our classification model). We also bring in evaluation tools like classification_report and confusion_matrix to assess model performance.\n",
        "\n",
        "For sentiment analysis, we include TextBlob, which is a simple NLP library. Finally, we import Seaborn and Matplotlib for plotting and hstack from SciPy to combine feature sets later on.\n",
        "\n",
        "This setup ensures we have all the tools ready for data preprocessing, feature engineering, model building, evaluation, and visualization."
      ],
      "metadata": {
        "id": "_N0lTFWd3wrm"
      }
    },
    {
      "cell_type": "code",
      "execution_count": 2,
      "metadata": {
        "id": "cG1Q_617S2Oe",
        "colab": {
          "base_uri": "https://localhost:8080/"
        },
        "outputId": "31515bae-5cd0-438d-a668-7d50ce0031e8"
      },
      "outputs": [
        {
          "output_type": "stream",
          "name": "stderr",
          "text": [
            "[nltk_data] Downloading package punkt to /root/nltk_data...\n",
            "[nltk_data]   Unzipping tokenizers/punkt.zip.\n",
            "[nltk_data] Downloading package stopwords to /root/nltk_data...\n",
            "[nltk_data]   Unzipping corpora/stopwords.zip.\n",
            "[nltk_data] Downloading package wordnet to /root/nltk_data...\n",
            "[nltk_data] Downloading package omw-1.4 to /root/nltk_data...\n"
          ]
        }
      ],
      "source": [
        "import pandas as pd\n",
        "import numpy as np\n",
        "import re\n",
        "import string\n",
        "import nltk\n",
        "from nltk.corpus import stopwords\n",
        "from nltk.stem import WordNetLemmatizer\n",
        "from nltk.tokenize import word_tokenize\n",
        "nltk.download('punkt')\n",
        "nltk.download('stopwords')\n",
        "nltk.download('wordnet')\n",
        "nltk.download('omw-1.4')\n",
        "from sklearn.feature_extraction.text import TfidfVectorizer\n",
        "from sklearn.preprocessing import LabelEncoder\n",
        "from textblob import TextBlob\n",
        "from sklearn.model_selection import train_test_split\n",
        "from sklearn.ensemble import RandomForestClassifier\n",
        "from sklearn.metrics import classification_report, confusion_matrix\n",
        "import seaborn as sns\n",
        "import matplotlib.pyplot as plt\n",
        "from scipy.sparse import hstack"
      ]
    },
    {
      "cell_type": "markdown",
      "source": [
        "We begin by loading the dataset using Pandas. The file provided for this assignment is an Excel sheet named 'tickets.xls', which contains anonymized customer support ticket data. After loading the file into a DataFrame named df, we quickly inspect the first few rows using the .head() function. This helps us get a sense of the structure of the dataset—what columns are available, how the data looks, and whether there are any immediate issues like missing values or formatting problems.\n",
        "\n",
        "This step is essential for getting familiar with the data before moving into cleaning and preprocessing.\n",
        "\n"
      ],
      "metadata": {
        "id": "DFeTQzQI36De"
      }
    },
    {
      "cell_type": "code",
      "source": [
        "# Load the file\n",
        "df = pd.read_excel('tickets.xls')\n",
        "\n",
        "# Show first few rows\n",
        "df.head()\n"
      ],
      "metadata": {
        "colab": {
          "base_uri": "https://localhost:8080/",
          "height": 206
        },
        "id": "8hSaGhPIptav",
        "outputId": "aba0d6ff-2db0-4518-dbc9-df62b5719a00"
      },
      "execution_count": 3,
      "outputs": [
        {
          "output_type": "execute_result",
          "data": {
            "text/plain": [
              "   ticket_id                                        ticket_text  \\\n",
              "0          1  Payment issue for my SmartWatch V2. I was unde...   \n",
              "1          2  Can you tell me more about the UltraClean Vacu...   \n",
              "2          3  I ordered SoundWave 300 but got EcoBreeze AC i...   \n",
              "3          4  Facing installation issue with PhotoSnap Cam. ...   \n",
              "4          5  Order #30903 for Vision LED TV is 13 days late...   \n",
              "\n",
              "           issue_type urgency_level            product  \n",
              "0     Billing Problem        Medium      SmartWatch V2  \n",
              "1     General Inquiry           NaN  UltraClean Vacuum  \n",
              "2          Wrong Item        Medium      SoundWave 300  \n",
              "3  Installation Issue           Low      PhotoSnap Cam  \n",
              "4       Late Delivery           NaN      Vision LED TV  "
            ],
            "text/html": [
              "\n",
              "  <div id=\"df-12ddf248-1cfa-437c-9879-c0f98860ef58\" class=\"colab-df-container\">\n",
              "    <div>\n",
              "<style scoped>\n",
              "    .dataframe tbody tr th:only-of-type {\n",
              "        vertical-align: middle;\n",
              "    }\n",
              "\n",
              "    .dataframe tbody tr th {\n",
              "        vertical-align: top;\n",
              "    }\n",
              "\n",
              "    .dataframe thead th {\n",
              "        text-align: right;\n",
              "    }\n",
              "</style>\n",
              "<table border=\"1\" class=\"dataframe\">\n",
              "  <thead>\n",
              "    <tr style=\"text-align: right;\">\n",
              "      <th></th>\n",
              "      <th>ticket_id</th>\n",
              "      <th>ticket_text</th>\n",
              "      <th>issue_type</th>\n",
              "      <th>urgency_level</th>\n",
              "      <th>product</th>\n",
              "    </tr>\n",
              "  </thead>\n",
              "  <tbody>\n",
              "    <tr>\n",
              "      <th>0</th>\n",
              "      <td>1</td>\n",
              "      <td>Payment issue for my SmartWatch V2. I was unde...</td>\n",
              "      <td>Billing Problem</td>\n",
              "      <td>Medium</td>\n",
              "      <td>SmartWatch V2</td>\n",
              "    </tr>\n",
              "    <tr>\n",
              "      <th>1</th>\n",
              "      <td>2</td>\n",
              "      <td>Can you tell me more about the UltraClean Vacu...</td>\n",
              "      <td>General Inquiry</td>\n",
              "      <td>NaN</td>\n",
              "      <td>UltraClean Vacuum</td>\n",
              "    </tr>\n",
              "    <tr>\n",
              "      <th>2</th>\n",
              "      <td>3</td>\n",
              "      <td>I ordered SoundWave 300 but got EcoBreeze AC i...</td>\n",
              "      <td>Wrong Item</td>\n",
              "      <td>Medium</td>\n",
              "      <td>SoundWave 300</td>\n",
              "    </tr>\n",
              "    <tr>\n",
              "      <th>3</th>\n",
              "      <td>4</td>\n",
              "      <td>Facing installation issue with PhotoSnap Cam. ...</td>\n",
              "      <td>Installation Issue</td>\n",
              "      <td>Low</td>\n",
              "      <td>PhotoSnap Cam</td>\n",
              "    </tr>\n",
              "    <tr>\n",
              "      <th>4</th>\n",
              "      <td>5</td>\n",
              "      <td>Order #30903 for Vision LED TV is 13 days late...</td>\n",
              "      <td>Late Delivery</td>\n",
              "      <td>NaN</td>\n",
              "      <td>Vision LED TV</td>\n",
              "    </tr>\n",
              "  </tbody>\n",
              "</table>\n",
              "</div>\n",
              "    <div class=\"colab-df-buttons\">\n",
              "\n",
              "  <div class=\"colab-df-container\">\n",
              "    <button class=\"colab-df-convert\" onclick=\"convertToInteractive('df-12ddf248-1cfa-437c-9879-c0f98860ef58')\"\n",
              "            title=\"Convert this dataframe to an interactive table.\"\n",
              "            style=\"display:none;\">\n",
              "\n",
              "  <svg xmlns=\"http://www.w3.org/2000/svg\" height=\"24px\" viewBox=\"0 -960 960 960\">\n",
              "    <path d=\"M120-120v-720h720v720H120Zm60-500h600v-160H180v160Zm220 220h160v-160H400v160Zm0 220h160v-160H400v160ZM180-400h160v-160H180v160Zm440 0h160v-160H620v160ZM180-180h160v-160H180v160Zm440 0h160v-160H620v160Z\"/>\n",
              "  </svg>\n",
              "    </button>\n",
              "\n",
              "  <style>\n",
              "    .colab-df-container {\n",
              "      display:flex;\n",
              "      gap: 12px;\n",
              "    }\n",
              "\n",
              "    .colab-df-convert {\n",
              "      background-color: #E8F0FE;\n",
              "      border: none;\n",
              "      border-radius: 50%;\n",
              "      cursor: pointer;\n",
              "      display: none;\n",
              "      fill: #1967D2;\n",
              "      height: 32px;\n",
              "      padding: 0 0 0 0;\n",
              "      width: 32px;\n",
              "    }\n",
              "\n",
              "    .colab-df-convert:hover {\n",
              "      background-color: #E2EBFA;\n",
              "      box-shadow: 0px 1px 2px rgba(60, 64, 67, 0.3), 0px 1px 3px 1px rgba(60, 64, 67, 0.15);\n",
              "      fill: #174EA6;\n",
              "    }\n",
              "\n",
              "    .colab-df-buttons div {\n",
              "      margin-bottom: 4px;\n",
              "    }\n",
              "\n",
              "    [theme=dark] .colab-df-convert {\n",
              "      background-color: #3B4455;\n",
              "      fill: #D2E3FC;\n",
              "    }\n",
              "\n",
              "    [theme=dark] .colab-df-convert:hover {\n",
              "      background-color: #434B5C;\n",
              "      box-shadow: 0px 1px 3px 1px rgba(0, 0, 0, 0.15);\n",
              "      filter: drop-shadow(0px 1px 2px rgba(0, 0, 0, 0.3));\n",
              "      fill: #FFFFFF;\n",
              "    }\n",
              "  </style>\n",
              "\n",
              "    <script>\n",
              "      const buttonEl =\n",
              "        document.querySelector('#df-12ddf248-1cfa-437c-9879-c0f98860ef58 button.colab-df-convert');\n",
              "      buttonEl.style.display =\n",
              "        google.colab.kernel.accessAllowed ? 'block' : 'none';\n",
              "\n",
              "      async function convertToInteractive(key) {\n",
              "        const element = document.querySelector('#df-12ddf248-1cfa-437c-9879-c0f98860ef58');\n",
              "        const dataTable =\n",
              "          await google.colab.kernel.invokeFunction('convertToInteractive',\n",
              "                                                    [key], {});\n",
              "        if (!dataTable) return;\n",
              "\n",
              "        const docLinkHtml = 'Like what you see? Visit the ' +\n",
              "          '<a target=\"_blank\" href=https://colab.research.google.com/notebooks/data_table.ipynb>data table notebook</a>'\n",
              "          + ' to learn more about interactive tables.';\n",
              "        element.innerHTML = '';\n",
              "        dataTable['output_type'] = 'display_data';\n",
              "        await google.colab.output.renderOutput(dataTable, element);\n",
              "        const docLink = document.createElement('div');\n",
              "        docLink.innerHTML = docLinkHtml;\n",
              "        element.appendChild(docLink);\n",
              "      }\n",
              "    </script>\n",
              "  </div>\n",
              "\n",
              "\n",
              "    <div id=\"df-62372650-e1cc-4bf8-9a16-58b1d74fc09c\">\n",
              "      <button class=\"colab-df-quickchart\" onclick=\"quickchart('df-62372650-e1cc-4bf8-9a16-58b1d74fc09c')\"\n",
              "                title=\"Suggest charts\"\n",
              "                style=\"display:none;\">\n",
              "\n",
              "<svg xmlns=\"http://www.w3.org/2000/svg\" height=\"24px\"viewBox=\"0 0 24 24\"\n",
              "     width=\"24px\">\n",
              "    <g>\n",
              "        <path d=\"M19 3H5c-1.1 0-2 .9-2 2v14c0 1.1.9 2 2 2h14c1.1 0 2-.9 2-2V5c0-1.1-.9-2-2-2zM9 17H7v-7h2v7zm4 0h-2V7h2v10zm4 0h-2v-4h2v4z\"/>\n",
              "    </g>\n",
              "</svg>\n",
              "      </button>\n",
              "\n",
              "<style>\n",
              "  .colab-df-quickchart {\n",
              "      --bg-color: #E8F0FE;\n",
              "      --fill-color: #1967D2;\n",
              "      --hover-bg-color: #E2EBFA;\n",
              "      --hover-fill-color: #174EA6;\n",
              "      --disabled-fill-color: #AAA;\n",
              "      --disabled-bg-color: #DDD;\n",
              "  }\n",
              "\n",
              "  [theme=dark] .colab-df-quickchart {\n",
              "      --bg-color: #3B4455;\n",
              "      --fill-color: #D2E3FC;\n",
              "      --hover-bg-color: #434B5C;\n",
              "      --hover-fill-color: #FFFFFF;\n",
              "      --disabled-bg-color: #3B4455;\n",
              "      --disabled-fill-color: #666;\n",
              "  }\n",
              "\n",
              "  .colab-df-quickchart {\n",
              "    background-color: var(--bg-color);\n",
              "    border: none;\n",
              "    border-radius: 50%;\n",
              "    cursor: pointer;\n",
              "    display: none;\n",
              "    fill: var(--fill-color);\n",
              "    height: 32px;\n",
              "    padding: 0;\n",
              "    width: 32px;\n",
              "  }\n",
              "\n",
              "  .colab-df-quickchart:hover {\n",
              "    background-color: var(--hover-bg-color);\n",
              "    box-shadow: 0 1px 2px rgba(60, 64, 67, 0.3), 0 1px 3px 1px rgba(60, 64, 67, 0.15);\n",
              "    fill: var(--button-hover-fill-color);\n",
              "  }\n",
              "\n",
              "  .colab-df-quickchart-complete:disabled,\n",
              "  .colab-df-quickchart-complete:disabled:hover {\n",
              "    background-color: var(--disabled-bg-color);\n",
              "    fill: var(--disabled-fill-color);\n",
              "    box-shadow: none;\n",
              "  }\n",
              "\n",
              "  .colab-df-spinner {\n",
              "    border: 2px solid var(--fill-color);\n",
              "    border-color: transparent;\n",
              "    border-bottom-color: var(--fill-color);\n",
              "    animation:\n",
              "      spin 1s steps(1) infinite;\n",
              "  }\n",
              "\n",
              "  @keyframes spin {\n",
              "    0% {\n",
              "      border-color: transparent;\n",
              "      border-bottom-color: var(--fill-color);\n",
              "      border-left-color: var(--fill-color);\n",
              "    }\n",
              "    20% {\n",
              "      border-color: transparent;\n",
              "      border-left-color: var(--fill-color);\n",
              "      border-top-color: var(--fill-color);\n",
              "    }\n",
              "    30% {\n",
              "      border-color: transparent;\n",
              "      border-left-color: var(--fill-color);\n",
              "      border-top-color: var(--fill-color);\n",
              "      border-right-color: var(--fill-color);\n",
              "    }\n",
              "    40% {\n",
              "      border-color: transparent;\n",
              "      border-right-color: var(--fill-color);\n",
              "      border-top-color: var(--fill-color);\n",
              "    }\n",
              "    60% {\n",
              "      border-color: transparent;\n",
              "      border-right-color: var(--fill-color);\n",
              "    }\n",
              "    80% {\n",
              "      border-color: transparent;\n",
              "      border-right-color: var(--fill-color);\n",
              "      border-bottom-color: var(--fill-color);\n",
              "    }\n",
              "    90% {\n",
              "      border-color: transparent;\n",
              "      border-bottom-color: var(--fill-color);\n",
              "    }\n",
              "  }\n",
              "</style>\n",
              "\n",
              "      <script>\n",
              "        async function quickchart(key) {\n",
              "          const quickchartButtonEl =\n",
              "            document.querySelector('#' + key + ' button');\n",
              "          quickchartButtonEl.disabled = true;  // To prevent multiple clicks.\n",
              "          quickchartButtonEl.classList.add('colab-df-spinner');\n",
              "          try {\n",
              "            const charts = await google.colab.kernel.invokeFunction(\n",
              "                'suggestCharts', [key], {});\n",
              "          } catch (error) {\n",
              "            console.error('Error during call to suggestCharts:', error);\n",
              "          }\n",
              "          quickchartButtonEl.classList.remove('colab-df-spinner');\n",
              "          quickchartButtonEl.classList.add('colab-df-quickchart-complete');\n",
              "        }\n",
              "        (() => {\n",
              "          let quickchartButtonEl =\n",
              "            document.querySelector('#df-62372650-e1cc-4bf8-9a16-58b1d74fc09c button');\n",
              "          quickchartButtonEl.style.display =\n",
              "            google.colab.kernel.accessAllowed ? 'block' : 'none';\n",
              "        })();\n",
              "      </script>\n",
              "    </div>\n",
              "\n",
              "    </div>\n",
              "  </div>\n"
            ],
            "application/vnd.google.colaboratory.intrinsic+json": {
              "type": "dataframe",
              "variable_name": "df",
              "summary": "{\n  \"name\": \"df\",\n  \"rows\": 1000,\n  \"fields\": [\n    {\n      \"column\": \"ticket_id\",\n      \"properties\": {\n        \"dtype\": \"number\",\n        \"std\": 288,\n        \"min\": 1,\n        \"max\": 1000,\n        \"num_unique_values\": 1000,\n        \"samples\": [\n          522,\n          738,\n          741\n        ],\n        \"semantic_type\": \"\",\n        \"description\": \"\"\n      }\n    },\n    {\n      \"column\": \"ticket_text\",\n      \"properties\": {\n        \"dtype\": \"string\",\n        \"num_unique_values\": 709,\n        \"samples\": [\n          \"Can't log in to mi account. Keeps showing blocked. Help!\",\n          \"Facing installation issue with SoundWave 300. Setup fails at step 3.\",\n          \"Order #23419 for EcoBreeze AC is 5 days late. Ordered on 19 March.\"\n        ],\n        \"semantic_type\": \"\",\n        \"description\": \"\"\n      }\n    },\n    {\n      \"column\": \"issue_type\",\n      \"properties\": {\n        \"dtype\": \"category\",\n        \"num_unique_values\": 7,\n        \"samples\": [\n          \"Billing Problem\",\n          \"General Inquiry\",\n          \"Product Defect\"\n        ],\n        \"semantic_type\": \"\",\n        \"description\": \"\"\n      }\n    },\n    {\n      \"column\": \"urgency_level\",\n      \"properties\": {\n        \"dtype\": \"category\",\n        \"num_unique_values\": 3,\n        \"samples\": [\n          \"Medium\",\n          \"Low\",\n          \"High\"\n        ],\n        \"semantic_type\": \"\",\n        \"description\": \"\"\n      }\n    },\n    {\n      \"column\": \"product\",\n      \"properties\": {\n        \"dtype\": \"category\",\n        \"num_unique_values\": 10,\n        \"samples\": [\n          \"PowerMax Battery\",\n          \"UltraClean Vacuum\",\n          \"EcoBreeze AC\"\n        ],\n        \"semantic_type\": \"\",\n        \"description\": \"\"\n      }\n    }\n  ]\n}"
            }
          },
          "metadata": {},
          "execution_count": 3
        }
      ]
    },
    {
      "cell_type": "markdown",
      "source": [
        "After loading the dataset, we perform a basic exploratory step to understand the structure and cleanliness of the data.\n",
        "\n",
        "First, we use df.info() to display important metadata about the DataFrame—such as the number of rows, column names, data types, and non-null counts. This gives us a quick overview of whether the data types are appropriate for each column and whether there are any unexpected values.\n",
        "\n",
        "Next, we check for missing values using df.isnull().sum(). This step is crucial to identify if any important fields, such as ticket text or labels, are incomplete. Detecting and handling missing values early helps prevent errors in the later stages of data processing and model training."
      ],
      "metadata": {
        "id": "VTF_TWDX4N4N"
      }
    },
    {
      "cell_type": "code",
      "source": [
        "# Basic info\n",
        "print(df.info())\n",
        "\n",
        "# Check for missing values\n",
        "print(\"\\nMissing values:\\n\", df.isnull().sum())\n"
      ],
      "metadata": {
        "colab": {
          "base_uri": "https://localhost:8080/"
        },
        "id": "L0rJlyRqqeG9",
        "outputId": "97e48794-7347-4537-cee6-39b3350d0842"
      },
      "execution_count": 4,
      "outputs": [
        {
          "output_type": "stream",
          "name": "stdout",
          "text": [
            "<class 'pandas.core.frame.DataFrame'>\n",
            "RangeIndex: 1000 entries, 0 to 999\n",
            "Data columns (total 5 columns):\n",
            " #   Column         Non-Null Count  Dtype \n",
            "---  ------         --------------  ----- \n",
            " 0   ticket_id      1000 non-null   int64 \n",
            " 1   ticket_text    945 non-null    object\n",
            " 2   issue_type     924 non-null    object\n",
            " 3   urgency_level  948 non-null    object\n",
            " 4   product        1000 non-null   object\n",
            "dtypes: int64(1), object(4)\n",
            "memory usage: 39.2+ KB\n",
            "None\n",
            "\n",
            "Missing values:\n",
            " ticket_id         0\n",
            "ticket_text      55\n",
            "issue_type       76\n",
            "urgency_level    52\n",
            "product           0\n",
            "dtype: int64\n"
          ]
        }
      ]
    },
    {
      "cell_type": "markdown",
      "source": [
        "From the output, we observe that the dataset contains 1,000 entries across five columns: ticket_id, ticket_text, issue_type, urgency_level, and product. While the ticket_id and product columns are fully populated, we notice missing values in some of the key fields that are essential for our analysis. Specifically, 55 entries are missing the actual ticket text, 76 entries do not have an associated issue type, and 52 entries are missing the urgency level. These missing values will need to be handled during the data cleaning process to ensure the models we build later can be trained effectively and evaluated reliably."
      ],
      "metadata": {
        "id": "HPcOkD7syNpp"
      }
    },
    {
      "cell_type": "markdown",
      "source": [
        "Since the ticket_text is the core input for our machine learning models and entity extraction, we start by removing any rows where this field is missing. Without the actual text of the support ticket, we cannot proceed with classification or entity extraction, so these entries are not usable. After that, we also drop rows that are missing either the issue_type or urgency_level, as these are our target labels for classification. Keeping incomplete records would compromise the training process, so it’s important to work only with fully labeled data at this stage."
      ],
      "metadata": {
        "id": "1l2Sgv5BzOc-"
      }
    },
    {
      "cell_type": "code",
      "source": [
        "# Drop rows with missing text (since it's essential)\n",
        "df = df.dropna(subset=['ticket_text'])\n",
        "\n",
        "# Optionally fill missing labels or drop them\n",
        "df = df.dropna(subset=['ticket_text', 'issue_type', 'urgency_level'])\n"
      ],
      "metadata": {
        "id": "Ts_PklVnqqmg"
      },
      "execution_count": 5,
      "outputs": []
    },
    {
      "cell_type": "markdown",
      "source": [
        "Now that we’ve cleaned the dataset of missing values, we move on to text preprocessing. We define a function called clean_text to standardize and prepare the ticket_text for feature extraction and modeling.\n",
        "\n",
        "The process begins by converting all text to lowercase to ensure consistency. Then, we remove punctuation and special characters using regular expressions to eliminate noise that could interfere with model training.\n",
        "\n",
        "Next, we tokenize the text using regex to split it into individual words and remove common English stopwords. After that, each word is lemmatized using WordNetLemmatizer to reduce it to its base or root form, which helps in generalizing the text and reducing redundancy.\n",
        "\n",
        "Finally, we join the cleaned and processed tokens back into a single string so that the result can be easily used for vectorization in the next step."
      ],
      "metadata": {
        "id": "i8gsAPKmyi8B"
      }
    },
    {
      "cell_type": "code",
      "source": [
        "lemmatizer = WordNetLemmatizer()\n",
        "stop_words = set(stopwords.words('english'))\n",
        "\n",
        "def clean_text(text):\n",
        "    # Lowercase\n",
        "    text = text.lower()\n",
        "\n",
        "    # Remove punctuation and special characters\n",
        "    text = re.sub(r'[^\\w\\s]', '', text)\n",
        "\n",
        "    # Tokenize using regex\n",
        "    tokens = re.findall(r'\\b\\w+\\b', text)\n",
        "\n",
        "    # Remove stopwords\n",
        "    tokens = [word for word in tokens if word not in stop_words]\n",
        "\n",
        "    # Lemmatize\n",
        "    tokens = [lemmatizer.lemmatize(word) for word in tokens]\n",
        "\n",
        "    # Join back to string\n",
        "    return ' '.join(tokens)"
      ],
      "metadata": {
        "id": "tMUS27j-qspb"
      },
      "execution_count": 6,
      "outputs": []
    },
    {
      "cell_type": "markdown",
      "source": [
        "With the clean_text function defined, we now apply it to the ticket_text column in our dataset to generate a new column called clean_text. This column contains the preprocessed version of each support ticket, where the text has been lowercased, cleaned, tokenized, stopwords removed, and lemmatized.\n",
        "\n",
        "We then display both the original and the cleaned versions side by side to quickly verify that the preprocessing is working as expected. This step ensures that our text is in a consistent and structured format, which will be essential for extracting features and training machine learning models effectively."
      ],
      "metadata": {
        "id": "RonVX8NgyzoW"
      }
    },
    {
      "cell_type": "code",
      "source": [
        "df['clean_text'] = df['ticket_text'].apply(clean_text)\n",
        "df[['ticket_text', 'clean_text']].head()\n"
      ],
      "metadata": {
        "colab": {
          "base_uri": "https://localhost:8080/",
          "height": 206
        },
        "id": "g7CI0NwTr2ih",
        "outputId": "55140a22-202c-49ed-839b-9f9d9edf3918"
      },
      "execution_count": 7,
      "outputs": [
        {
          "output_type": "execute_result",
          "data": {
            "text/plain": [
              "                                         ticket_text  \\\n",
              "0  Payment issue for my SmartWatch V2. I was unde...   \n",
              "2  I ordered SoundWave 300 but got EcoBreeze AC i...   \n",
              "3  Facing installation issue with PhotoSnap Cam. ...   \n",
              "5  Can you tell me more about the PhotoSnap Cam w...   \n",
              "6   is malfunction. It stopped working after just...   \n",
              "\n",
              "                                          clean_text  \n",
              "0  payment issue smartwatch v2 underbilled order ...  \n",
              "2  ordered soundwave 300 got ecobreeze ac instead...  \n",
              "3  facing installation issue photosnap cam setup ...  \n",
              "5     tell photosnap cam warranty also available red  \n",
              "6                  malfunction stopped working 7 day  "
            ],
            "text/html": [
              "\n",
              "  <div id=\"df-838436ae-67a3-45b2-bb89-cfa30e188740\" class=\"colab-df-container\">\n",
              "    <div>\n",
              "<style scoped>\n",
              "    .dataframe tbody tr th:only-of-type {\n",
              "        vertical-align: middle;\n",
              "    }\n",
              "\n",
              "    .dataframe tbody tr th {\n",
              "        vertical-align: top;\n",
              "    }\n",
              "\n",
              "    .dataframe thead th {\n",
              "        text-align: right;\n",
              "    }\n",
              "</style>\n",
              "<table border=\"1\" class=\"dataframe\">\n",
              "  <thead>\n",
              "    <tr style=\"text-align: right;\">\n",
              "      <th></th>\n",
              "      <th>ticket_text</th>\n",
              "      <th>clean_text</th>\n",
              "    </tr>\n",
              "  </thead>\n",
              "  <tbody>\n",
              "    <tr>\n",
              "      <th>0</th>\n",
              "      <td>Payment issue for my SmartWatch V2. I was unde...</td>\n",
              "      <td>payment issue smartwatch v2 underbilled order ...</td>\n",
              "    </tr>\n",
              "    <tr>\n",
              "      <th>2</th>\n",
              "      <td>I ordered SoundWave 300 but got EcoBreeze AC i...</td>\n",
              "      <td>ordered soundwave 300 got ecobreeze ac instead...</td>\n",
              "    </tr>\n",
              "    <tr>\n",
              "      <th>3</th>\n",
              "      <td>Facing installation issue with PhotoSnap Cam. ...</td>\n",
              "      <td>facing installation issue photosnap cam setup ...</td>\n",
              "    </tr>\n",
              "    <tr>\n",
              "      <th>5</th>\n",
              "      <td>Can you tell me more about the PhotoSnap Cam w...</td>\n",
              "      <td>tell photosnap cam warranty also available red</td>\n",
              "    </tr>\n",
              "    <tr>\n",
              "      <th>6</th>\n",
              "      <td>is malfunction. It stopped working after just...</td>\n",
              "      <td>malfunction stopped working 7 day</td>\n",
              "    </tr>\n",
              "  </tbody>\n",
              "</table>\n",
              "</div>\n",
              "    <div class=\"colab-df-buttons\">\n",
              "\n",
              "  <div class=\"colab-df-container\">\n",
              "    <button class=\"colab-df-convert\" onclick=\"convertToInteractive('df-838436ae-67a3-45b2-bb89-cfa30e188740')\"\n",
              "            title=\"Convert this dataframe to an interactive table.\"\n",
              "            style=\"display:none;\">\n",
              "\n",
              "  <svg xmlns=\"http://www.w3.org/2000/svg\" height=\"24px\" viewBox=\"0 -960 960 960\">\n",
              "    <path d=\"M120-120v-720h720v720H120Zm60-500h600v-160H180v160Zm220 220h160v-160H400v160Zm0 220h160v-160H400v160ZM180-400h160v-160H180v160Zm440 0h160v-160H620v160ZM180-180h160v-160H180v160Zm440 0h160v-160H620v160Z\"/>\n",
              "  </svg>\n",
              "    </button>\n",
              "\n",
              "  <style>\n",
              "    .colab-df-container {\n",
              "      display:flex;\n",
              "      gap: 12px;\n",
              "    }\n",
              "\n",
              "    .colab-df-convert {\n",
              "      background-color: #E8F0FE;\n",
              "      border: none;\n",
              "      border-radius: 50%;\n",
              "      cursor: pointer;\n",
              "      display: none;\n",
              "      fill: #1967D2;\n",
              "      height: 32px;\n",
              "      padding: 0 0 0 0;\n",
              "      width: 32px;\n",
              "    }\n",
              "\n",
              "    .colab-df-convert:hover {\n",
              "      background-color: #E2EBFA;\n",
              "      box-shadow: 0px 1px 2px rgba(60, 64, 67, 0.3), 0px 1px 3px 1px rgba(60, 64, 67, 0.15);\n",
              "      fill: #174EA6;\n",
              "    }\n",
              "\n",
              "    .colab-df-buttons div {\n",
              "      margin-bottom: 4px;\n",
              "    }\n",
              "\n",
              "    [theme=dark] .colab-df-convert {\n",
              "      background-color: #3B4455;\n",
              "      fill: #D2E3FC;\n",
              "    }\n",
              "\n",
              "    [theme=dark] .colab-df-convert:hover {\n",
              "      background-color: #434B5C;\n",
              "      box-shadow: 0px 1px 3px 1px rgba(0, 0, 0, 0.15);\n",
              "      filter: drop-shadow(0px 1px 2px rgba(0, 0, 0, 0.3));\n",
              "      fill: #FFFFFF;\n",
              "    }\n",
              "  </style>\n",
              "\n",
              "    <script>\n",
              "      const buttonEl =\n",
              "        document.querySelector('#df-838436ae-67a3-45b2-bb89-cfa30e188740 button.colab-df-convert');\n",
              "      buttonEl.style.display =\n",
              "        google.colab.kernel.accessAllowed ? 'block' : 'none';\n",
              "\n",
              "      async function convertToInteractive(key) {\n",
              "        const element = document.querySelector('#df-838436ae-67a3-45b2-bb89-cfa30e188740');\n",
              "        const dataTable =\n",
              "          await google.colab.kernel.invokeFunction('convertToInteractive',\n",
              "                                                    [key], {});\n",
              "        if (!dataTable) return;\n",
              "\n",
              "        const docLinkHtml = 'Like what you see? Visit the ' +\n",
              "          '<a target=\"_blank\" href=https://colab.research.google.com/notebooks/data_table.ipynb>data table notebook</a>'\n",
              "          + ' to learn more about interactive tables.';\n",
              "        element.innerHTML = '';\n",
              "        dataTable['output_type'] = 'display_data';\n",
              "        await google.colab.output.renderOutput(dataTable, element);\n",
              "        const docLink = document.createElement('div');\n",
              "        docLink.innerHTML = docLinkHtml;\n",
              "        element.appendChild(docLink);\n",
              "      }\n",
              "    </script>\n",
              "  </div>\n",
              "\n",
              "\n",
              "    <div id=\"df-178e6835-8c21-412d-8bd8-5d3165cbabe6\">\n",
              "      <button class=\"colab-df-quickchart\" onclick=\"quickchart('df-178e6835-8c21-412d-8bd8-5d3165cbabe6')\"\n",
              "                title=\"Suggest charts\"\n",
              "                style=\"display:none;\">\n",
              "\n",
              "<svg xmlns=\"http://www.w3.org/2000/svg\" height=\"24px\"viewBox=\"0 0 24 24\"\n",
              "     width=\"24px\">\n",
              "    <g>\n",
              "        <path d=\"M19 3H5c-1.1 0-2 .9-2 2v14c0 1.1.9 2 2 2h14c1.1 0 2-.9 2-2V5c0-1.1-.9-2-2-2zM9 17H7v-7h2v7zm4 0h-2V7h2v10zm4 0h-2v-4h2v4z\"/>\n",
              "    </g>\n",
              "</svg>\n",
              "      </button>\n",
              "\n",
              "<style>\n",
              "  .colab-df-quickchart {\n",
              "      --bg-color: #E8F0FE;\n",
              "      --fill-color: #1967D2;\n",
              "      --hover-bg-color: #E2EBFA;\n",
              "      --hover-fill-color: #174EA6;\n",
              "      --disabled-fill-color: #AAA;\n",
              "      --disabled-bg-color: #DDD;\n",
              "  }\n",
              "\n",
              "  [theme=dark] .colab-df-quickchart {\n",
              "      --bg-color: #3B4455;\n",
              "      --fill-color: #D2E3FC;\n",
              "      --hover-bg-color: #434B5C;\n",
              "      --hover-fill-color: #FFFFFF;\n",
              "      --disabled-bg-color: #3B4455;\n",
              "      --disabled-fill-color: #666;\n",
              "  }\n",
              "\n",
              "  .colab-df-quickchart {\n",
              "    background-color: var(--bg-color);\n",
              "    border: none;\n",
              "    border-radius: 50%;\n",
              "    cursor: pointer;\n",
              "    display: none;\n",
              "    fill: var(--fill-color);\n",
              "    height: 32px;\n",
              "    padding: 0;\n",
              "    width: 32px;\n",
              "  }\n",
              "\n",
              "  .colab-df-quickchart:hover {\n",
              "    background-color: var(--hover-bg-color);\n",
              "    box-shadow: 0 1px 2px rgba(60, 64, 67, 0.3), 0 1px 3px 1px rgba(60, 64, 67, 0.15);\n",
              "    fill: var(--button-hover-fill-color);\n",
              "  }\n",
              "\n",
              "  .colab-df-quickchart-complete:disabled,\n",
              "  .colab-df-quickchart-complete:disabled:hover {\n",
              "    background-color: var(--disabled-bg-color);\n",
              "    fill: var(--disabled-fill-color);\n",
              "    box-shadow: none;\n",
              "  }\n",
              "\n",
              "  .colab-df-spinner {\n",
              "    border: 2px solid var(--fill-color);\n",
              "    border-color: transparent;\n",
              "    border-bottom-color: var(--fill-color);\n",
              "    animation:\n",
              "      spin 1s steps(1) infinite;\n",
              "  }\n",
              "\n",
              "  @keyframes spin {\n",
              "    0% {\n",
              "      border-color: transparent;\n",
              "      border-bottom-color: var(--fill-color);\n",
              "      border-left-color: var(--fill-color);\n",
              "    }\n",
              "    20% {\n",
              "      border-color: transparent;\n",
              "      border-left-color: var(--fill-color);\n",
              "      border-top-color: var(--fill-color);\n",
              "    }\n",
              "    30% {\n",
              "      border-color: transparent;\n",
              "      border-left-color: var(--fill-color);\n",
              "      border-top-color: var(--fill-color);\n",
              "      border-right-color: var(--fill-color);\n",
              "    }\n",
              "    40% {\n",
              "      border-color: transparent;\n",
              "      border-right-color: var(--fill-color);\n",
              "      border-top-color: var(--fill-color);\n",
              "    }\n",
              "    60% {\n",
              "      border-color: transparent;\n",
              "      border-right-color: var(--fill-color);\n",
              "    }\n",
              "    80% {\n",
              "      border-color: transparent;\n",
              "      border-right-color: var(--fill-color);\n",
              "      border-bottom-color: var(--fill-color);\n",
              "    }\n",
              "    90% {\n",
              "      border-color: transparent;\n",
              "      border-bottom-color: var(--fill-color);\n",
              "    }\n",
              "  }\n",
              "</style>\n",
              "\n",
              "      <script>\n",
              "        async function quickchart(key) {\n",
              "          const quickchartButtonEl =\n",
              "            document.querySelector('#' + key + ' button');\n",
              "          quickchartButtonEl.disabled = true;  // To prevent multiple clicks.\n",
              "          quickchartButtonEl.classList.add('colab-df-spinner');\n",
              "          try {\n",
              "            const charts = await google.colab.kernel.invokeFunction(\n",
              "                'suggestCharts', [key], {});\n",
              "          } catch (error) {\n",
              "            console.error('Error during call to suggestCharts:', error);\n",
              "          }\n",
              "          quickchartButtonEl.classList.remove('colab-df-spinner');\n",
              "          quickchartButtonEl.classList.add('colab-df-quickchart-complete');\n",
              "        }\n",
              "        (() => {\n",
              "          let quickchartButtonEl =\n",
              "            document.querySelector('#df-178e6835-8c21-412d-8bd8-5d3165cbabe6 button');\n",
              "          quickchartButtonEl.style.display =\n",
              "            google.colab.kernel.accessAllowed ? 'block' : 'none';\n",
              "        })();\n",
              "      </script>\n",
              "    </div>\n",
              "\n",
              "    </div>\n",
              "  </div>\n"
            ],
            "application/vnd.google.colaboratory.intrinsic+json": {
              "type": "dataframe",
              "summary": "{\n  \"name\": \"df[['ticket_text', 'clean_text']]\",\n  \"rows\": 5,\n  \"fields\": [\n    {\n      \"column\": \"ticket_text\",\n      \"properties\": {\n        \"dtype\": \"string\",\n        \"num_unique_values\": 5,\n        \"samples\": [\n          \"I ordered SoundWave 300 but got EcoBreeze AC instead. My order number is #36824.\",\n          \" is malfunction. It stopped working after just 7 days.\",\n          \"Facing installation issue with PhotoSnap Cam. Setup fails at step 1.\"\n        ],\n        \"semantic_type\": \"\",\n        \"description\": \"\"\n      }\n    },\n    {\n      \"column\": \"clean_text\",\n      \"properties\": {\n        \"dtype\": \"string\",\n        \"num_unique_values\": 5,\n        \"samples\": [\n          \"ordered soundwave 300 got ecobreeze ac instead order number 36824\",\n          \"malfunction stopped working 7 day\",\n          \"facing installation issue photosnap cam setup fails step 1\"\n        ],\n        \"semantic_type\": \"\",\n        \"description\": \"\"\n      }\n    }\n  ]\n}"
            }
          },
          "metadata": {},
          "execution_count": 7
        }
      ]
    },
    {
      "cell_type": "markdown",
      "source": [
        "Now that our text data is cleaned and ready, we move on to feature extraction using TF-IDF.\n",
        "\n",
        "We initialize a TfidfVectorizer and set max_features=1000 to limit the number of features to the top 1,000 most informative words across all tickets. This helps reduce noise and dimensionality while keeping the model efficient.\n",
        "\n",
        "We then fit the vectorizer on the cleaned text and transform it into a TF-IDF matrix, which we store in X_tfidf. Each row of this matrix represents a ticket, and each column represents a TF-IDF score for a specific word. These vectors will serve as the primary input features for our classification models."
      ],
      "metadata": {
        "id": "yymkGH_PFYWu"
      }
    },
    {
      "cell_type": "code",
      "source": [
        "# Use top 1000 features\n",
        "tfidf = TfidfVectorizer(max_features=1000)\n",
        "\n",
        "# Fit and transform\n",
        "X_tfidf = tfidf.fit_transform(df['clean_text'])\n"
      ],
      "metadata": {
        "id": "EzdrOAMp04gR"
      },
      "execution_count": 8,
      "outputs": []
    },
    {
      "cell_type": "markdown",
      "source": [
        "In addition to the TF-IDF features, we engineer an additional feature called ticket_length, which represents the number of words in each cleaned support ticket. This is calculated by splitting the cleaned text into words and counting them. Ticket length can be a useful indicator of the complexity or urgency of a ticket—for example, longer messages might be associated with more detailed complaints or high-priority issues. Including such simple yet meaningful features can help improve the performance of our classification models.\n",
        "\n"
      ],
      "metadata": {
        "id": "S3tUz-_D0LP_"
      }
    },
    {
      "cell_type": "code",
      "source": [
        "df['ticket_length'] = df['clean_text'].apply(lambda x: len(x.split()))\n"
      ],
      "metadata": {
        "id": "EPHWNE3A3YD4"
      },
      "execution_count": 9,
      "outputs": []
    },
    {
      "cell_type": "markdown",
      "source": [
        "Next, we extract another useful feature: sentiment polarity. Using the TextBlob library, we calculate the sentiment of each cleaned ticket. The polarity score ranges from -1 to 1, where negative values indicate negative sentiment, positive values indicate positive sentiment, and values around zero represent neutral tone.\n",
        "\n",
        "This sentiment score can provide additional context about the customer's tone or emotion in the ticket—for instance, complaints might have a more negative tone, which could correlate with certain issue types or higher urgency levels. Including sentiment as a feature can help our models better understand and classify the tickets."
      ],
      "metadata": {
        "id": "6xaTg_WA0iV3"
      }
    },
    {
      "cell_type": "code",
      "source": [
        "df['sentiment'] = df['clean_text'].apply(lambda x: TextBlob(x).sentiment.polarity)\n"
      ],
      "metadata": {
        "id": "VIbt3hfm3nXl"
      },
      "execution_count": 10,
      "outputs": []
    },
    {
      "cell_type": "markdown",
      "source": [
        "Now that we've extracted multiple features—TF-IDF vectors, ticket length, and sentiment score—we combine them into a single feature set that will be used for training our models.\n",
        "\n",
        "Since the TF-IDF output is a sparse matrix, we use hstack from SciPy to horizontally stack the TF-IDF matrix with the two additional features: ticket_length and sentiment. Before stacking, we reshape these two columns into the correct format so that they align properly with the TF-IDF matrix.\n",
        "\n",
        "The resulting matrix X_combined contains all the relevant numerical features for each ticket in one place. This combined feature set captures both the textual content and some high-level characteristics of each ticket, giving our models more context to learn from.\n",
        "\n"
      ],
      "metadata": {
        "id": "bC--jyj60wVC"
      }
    },
    {
      "cell_type": "code",
      "source": [
        "from scipy.sparse import hstack\n",
        "\n",
        "# Combine TF-IDF with ticket_length and sentiment (reshape required)\n",
        "X_combined = hstack([\n",
        "    X_tfidf,\n",
        "    np.array(df['ticket_length']).reshape(-1, 1),\n",
        "    np.array(df['sentiment']).reshape(-1, 1)\n",
        "])\n"
      ],
      "metadata": {
        "id": "x7IePZ1l3rvP"
      },
      "execution_count": 11,
      "outputs": []
    },
    {
      "cell_type": "markdown",
      "source": [
        "Since machine learning models work with numerical data, we need to convert our target labels—issue_type and urgency_level—from text to numbers. To do this, we use Label Encoding, which assigns a unique integer to each category in both columns.\n",
        "\n",
        "We create two separate encoders: one for issue_type and one for urgency_level. After fitting and transforming the columns, we store the resulting encoded labels in y_issue and y_urgency.\n",
        "\n",
        "Additionally, we save the original label names in issue_labels and urgency_labels."
      ],
      "metadata": {
        "id": "CTFT-EAi1CAf"
      }
    },
    {
      "cell_type": "code",
      "source": [
        "# Encode labels\n",
        "issue_encoder = LabelEncoder()\n",
        "urgency_encoder = LabelEncoder()\n",
        "\n",
        "y_issue = issue_encoder.fit_transform(df['issue_type'])\n",
        "y_urgency = urgency_encoder.fit_transform(df['urgency_level'])\n",
        "\n",
        "# For reference, save the label classes (for later inverse transformation)\n",
        "issue_labels = issue_encoder.classes_\n",
        "urgency_labels = urgency_encoder.classes_\n"
      ],
      "metadata": {
        "id": "RBVF7FFZ3tjp"
      },
      "execution_count": 12,
      "outputs": []
    },
    {
      "cell_type": "markdown",
      "source": [
        "Next, we split our data into training and testing sets so we can properly evaluate how well our models perform. We use the same input features for both tasks—predicting the issue type and the urgency level—but keep the target labels separate for each.\n",
        "\n",
        "By setting aside 20% of the data for testing, we make sure our models are tested on unseen tickets, which helps us understand how they might perform in the real world. We also fix the random seed to get consistent splits every time we run the code, so our results are reproducible.\n",
        "\n",
        "This way, we can train two different models on the training data and then check their accuracy and other metrics on the test data.\n",
        "\n"
      ],
      "metadata": {
        "id": "3b8q1rBIGLV2"
      }
    },
    {
      "cell_type": "code",
      "source": [
        "# Split the data for both tasks (same input X, different y)\n",
        "X_train, X_test, y_issue_train, y_issue_test, y_urgency_train, y_urgency_test = train_test_split(\n",
        "    X_combined, y_issue, y_urgency, test_size=0.2, random_state=42\n",
        ")\n"
      ],
      "metadata": {
        "id": "rnrag3dz3x8x"
      },
      "execution_count": 13,
      "outputs": []
    },
    {
      "cell_type": "markdown",
      "source": [
        "##Issue Type Classifier\n",
        " We start by building the classifier for predicting the issue type using a Random Forest model, which is a popular and powerful ensemble method. We initialize the model with a fixed random state to keep the results consistent.\n",
        "\n",
        "After initializing, we train the model using the training data we prepared earlier.\n",
        "\n",
        "To get a more robust estimate of how well this model performs, we also run 5-fold cross-validation on the full TF-IDF features and issue type labels. This process splits the data into five parts, trains on four, and tests on one repeatedly to provide an average accuracy score, which helps us understand the model’s generalization.\n",
        "\n",
        "Once the model is trained, we predict the issue types on the test set and then evaluate its performance using a detailed classification report. This report shows precision, recall, and F1-score for each issue type class, giving us insights into how well the model distinguishes between different categories.\n",
        "\n"
      ],
      "metadata": {
        "id": "VdKwB-gOGfZx"
      }
    },
    {
      "cell_type": "code",
      "source": [
        "# Initialize model\n",
        "issue_clf = RandomForestClassifier(random_state=42)\n",
        "\n",
        "# Train\n",
        "issue_clf.fit(X_train, y_issue_train)\n",
        "\n",
        "from sklearn.model_selection import cross_val_score\n",
        "\n",
        "# Perform 5-fold cross-validation for Issue Type Classifier\n",
        "cv_scores_issue = cross_val_score(issue_clf, X_tfidf, y_issue, cv=5)\n",
        "print(\"Cross-validation Accuracy (Issue Type):\", cv_scores_issue.mean())\n",
        "\n",
        "\n",
        "# Predict\n",
        "y_issue_pred = issue_clf.predict(X_test)\n",
        "\n",
        "# Evaluation\n",
        "print(\"=== Issue Type Classification ===\")\n",
        "print(classification_report(y_issue_test, y_issue_pred, target_names=issue_labels.tolist()))\n"
      ],
      "metadata": {
        "colab": {
          "base_uri": "https://localhost:8080/"
        },
        "id": "FsiRBOsR4Gr1",
        "outputId": "f202137d-93ce-4548-d0b7-e0d03ba223f7"
      },
      "execution_count": 14,
      "outputs": [
        {
          "output_type": "stream",
          "name": "stdout",
          "text": [
            "Cross-validation Accuracy (Issue Type): 1.0\n",
            "=== Issue Type Classification ===\n",
            "                    precision    recall  f1-score   support\n",
            "\n",
            "    Account Access       1.00      1.00      1.00        23\n",
            "   Billing Problem       1.00      1.00      1.00        19\n",
            "   General Inquiry       1.00      1.00      1.00        25\n",
            "Installation Issue       1.00      1.00      1.00        29\n",
            "     Late Delivery       1.00      1.00      1.00        17\n",
            "    Product Defect       1.00      1.00      1.00        30\n",
            "        Wrong Item       1.00      1.00      1.00        23\n",
            "\n",
            "          accuracy                           1.00       166\n",
            "         macro avg       1.00      1.00      1.00       166\n",
            "      weighted avg       1.00      1.00      1.00       166\n",
            "\n"
          ]
        }
      ]
    },
    {
      "cell_type": "markdown",
      "source": [
        "The cross-validation accuracy for the issue type classification is a perfect 100%, indicating that our Random Forest model is able to fit the training data extremely well. However, such perfect results may sometimes indicate potential overfitting or a very clean dataset. It’s something to keep in mind as we proceed, but overall, the model’s ability to distinguish between issue types appears excellent based on this evaluation."
      ],
      "metadata": {
        "id": "A7JIAhAzRQLV"
      }
    },
    {
      "cell_type": "markdown",
      "source": [
        "##Urgency Level Classifier\n",
        "Next, we repeat a similar process for the second task—predicting the urgency level of each support ticket. We again use a Random Forest classifier and fit it using the same training features, but this time with urgency level labels.\n",
        "\n",
        "Just like before, we perform 5-fold cross-validation to estimate the model’s general performance on unseen data. This gives us an average accuracy score, helping us understand how well the model generalizes beyond the training set.\n",
        "\n",
        "After training, we make predictions on the test data and evaluate them using a classification report. This report breaks down how accurately the model is predicting each urgency class—Low, Medium, and High—in terms of precision, recall, and F1-score. Together, these metrics show us whether the model is good at correctly identifying the urgency level of each ticket."
      ],
      "metadata": {
        "id": "0MvY9bWuGo81"
      }
    },
    {
      "cell_type": "code",
      "source": [
        "urgency_clf = RandomForestClassifier(random_state=42)\n",
        "\n",
        "urgency_clf.fit(X_train, y_urgency_train)\n",
        "\n",
        "cv_scores_urgency = cross_val_score(urgency_clf, X_tfidf, y_urgency, cv=5)\n",
        "print(\"Cross-validation Accuracy (Urgency Level):\", cv_scores_urgency.mean())\n",
        "\n",
        "\n",
        "y_urgency_pred = urgency_clf.predict(X_test)\n",
        "\n",
        "print(\"=== Urgency Level Classification ===\")\n",
        "print(classification_report(y_urgency_test, y_urgency_pred, target_names=urgency_labels.tolist()))\n"
      ],
      "metadata": {
        "colab": {
          "base_uri": "https://localhost:8080/"
        },
        "id": "CNv931Ol4H8i",
        "outputId": "aa894dbc-6dd5-40a2-fe48-6708f88813ee"
      },
      "execution_count": 15,
      "outputs": [
        {
          "output_type": "stream",
          "name": "stdout",
          "text": [
            "Cross-validation Accuracy (Urgency Level): 0.34013873676524276\n",
            "=== Urgency Level Classification ===\n",
            "              precision    recall  f1-score   support\n",
            "\n",
            "        High       0.35      0.33      0.34        66\n",
            "         Low       0.29      0.37      0.32        43\n",
            "      Medium       0.33      0.28      0.30        57\n",
            "\n",
            "    accuracy                           0.33       166\n",
            "   macro avg       0.32      0.33      0.32       166\n",
            "weighted avg       0.33      0.33      0.33       166\n",
            "\n"
          ]
        }
      ]
    },
    {
      "cell_type": "markdown",
      "source": [
        "The urgency level classifier didn’t perform as well as the issue type one. With a cross-validation accuracy of around 34%, and low precision and recall across all classes, the model finds it hard to distinguish between High, Medium, and Low urgency. This is likely because urgency is harder to detect from text alone, especially if the customer doesn’t clearly express urgency. We might need more refined features or advanced NLP models to improve this.\n",
        "\n"
      ],
      "metadata": {
        "id": "8fVdnPgVSoE4"
      }
    },
    {
      "cell_type": "markdown",
      "source": [
        "Nex we use confusion matrices to visualize how well the models are performing. For the issue type classifier, the confusion matrix confirms perfect predictions—everything is classified correctly. For the urgency level classifier, the confusion matrix helps us see where the model is confusing one urgency level for another, which supports the earlier metrics showing weaker performance. These heatmaps give us a clear, class-by-class view of model accuracy."
      ],
      "metadata": {
        "id": "D47Xyfi7Ui81"
      }
    },
    {
      "cell_type": "code",
      "source": [
        "# Confusion matrix for issue_type\n",
        "plt.figure(figsize=(6,4))\n",
        "sns.heatmap(confusion_matrix(y_issue_test, y_issue_pred), annot=True, xticklabels=issue_labels, yticklabels=issue_labels, fmt=\"d\")\n",
        "plt.title(\"Confusion Matrix - Issue Type\")\n",
        "plt.xlabel(\"Predicted\")\n",
        "plt.ylabel(\"Actual\")\n",
        "plt.show()\n",
        "\n",
        "# Confusion matrix for urgency_level\n",
        "plt.figure(figsize=(6,4))\n",
        "sns.heatmap(confusion_matrix(y_urgency_test, y_urgency_pred), annot=True, xticklabels=urgency_labels, yticklabels=urgency_labels, fmt=\"d\")\n",
        "plt.title(\"Confusion Matrix - Urgency Level\")\n",
        "plt.xlabel(\"Predicted\")\n",
        "plt.ylabel(\"Actual\")\n",
        "plt.show()\n"
      ],
      "metadata": {
        "colab": {
          "base_uri": "https://localhost:8080/",
          "height": 906
        },
        "id": "uQkNIM3h4P_f",
        "outputId": "da377b7c-62ab-41fd-bb2b-2f817728a41c"
      },
      "execution_count": 16,
      "outputs": [
        {
          "output_type": "display_data",
          "data": {
            "text/plain": [
              "<Figure size 600x400 with 2 Axes>"
            ],
            "image/png": "[encoded data removed]"
          },
          "metadata": {}
        },
        {
          "output_type": "display_data",
          "data": {
            "text/plain": [
              "<Figure size 600x400 with 2 Axes>"
            ],
            "image/png": "[encoded data removed]"
          },
          "metadata": {}
        }
      ]
    },
    {
      "cell_type": "markdown",
      "source": [
        "The confusion matrix for issue type shows perfect classification. Each issue type has been predicted correctly with no misclassifications—each class’s values fall entirely along the diagonal. This aligns with the perfect precision, recall, and F1-scores we observed earlier.\n",
        "\n",
        "On the other hand, the urgency level matrix reveals significant misclassifications. For example, many actual \"High\" urgency tickets were classified as \"Medium\" or \"Low\". Similarly, \"Low\" and \"Medium\" categories also show overlaps. This indicates that the model struggles to clearly distinguish urgency levels, likely due to subtle or ambiguous urgency indicators in the text."
      ],
      "metadata": {
        "id": "vDu7p5TKadAD"
      }
    },
    {
      "cell_type": "markdown",
      "source": [
        "Next to prepare for entity extraction, we first extract the list of all unique product names from the dataset. This list will help us later when identifying whether any of these known products are mentioned in the ticket text. We remove any missing values to ensure the list is clean and usable for rule-based matching.\n",
        "\n"
      ],
      "metadata": {
        "id": "b4NKTqYVbCBd"
      }
    },
    {
      "cell_type": "code",
      "source": [
        "# Extract unique product names\n",
        "product_list = df['product'].dropna().unique().tolist()\n"
      ],
      "metadata": {
        "id": "krMnQe_l4hDm"
      },
      "execution_count": null,
      "outputs": []
    },
    {
      "cell_type": "markdown",
      "source": [
        "We now define a function to extract key entities from a given support ticket text. This includes three main types of information: product names, dates, and complaint-related keywords.\n",
        "\n",
        "To do this, we first normalize the text by converting it to lowercase. Then, using the product_list created earlier, we check if any known product names are mentioned in the ticket. For dates, we use a regular expression that matches common date formats such as “12-Jan-2023” or “2023/01/12”. Lastly, we scan for predefined complaint keywords like “broken”, “error”, or “delayed” to detect typical customer grievances. All extracted details are returned as a dictionary for easy use later in prediction and display."
      ],
      "metadata": {
        "id": "LkEgSNOTsAWX"
      }
    },
    {
      "cell_type": "code",
      "source": [
        "# Define complaint keywords\n",
        "complaint_keywords = ['broken', 'damaged', 'not working', 'late', 'error', 'cracked', 'missing', 'delayed', 'faulty']\n",
        "\n",
        "def extract_entities(text):\n",
        "    entities = {}\n",
        "\n",
        "    # Normalize text\n",
        "    text_lower = text.lower()\n",
        "\n",
        "    # Extract product\n",
        "    found_products = [prod for prod in product_list if prod.lower() in text_lower]\n",
        "    entities['product'] = found_products if found_products else None\n",
        "\n",
        "    # Extract dates\n",
        "    date_pattern = r'\\b(?:\\d{1,2}[-/th|st|nd|rd\\s]*(?:jan|feb|mar|apr|may|jun|jul|aug|sep|sept|oct|nov|dec)[a-z]*[-/\\s]*\\d{2,4}|\\d{2,4}[-/]\\d{1,2}[-/]\\d{1,2})\\b'\n",
        "    dates = re.findall(date_pattern, text_lower)\n",
        "    entities['dates'] = dates if dates else None\n",
        "\n",
        "    # Extract complaint keywords\n",
        "    complaints_found = [kw for kw in complaint_keywords if kw in text_lower]\n",
        "    entities['complaints'] = complaints_found if complaints_found else None\n",
        "\n",
        "    return entities\n"
      ],
      "metadata": {
        "id": "s7Sp0QT18KDN"
      },
      "execution_count": null,
      "outputs": []
    },
    {
      "cell_type": "markdown",
      "source": [
        "To verify that our entity extraction function works correctly, we test it on a sample support ticket taken from the dataset. We print the original ticket text and then run our extract_entities function on it to see what it extracts. This helps us confirm that product names, dates, and complaint keywords are being correctly identified from real ticket data."
      ],
      "metadata": {
        "id": "BvWQeu2VsPNp"
      }
    },
    {
      "cell_type": "code",
      "source": [
        "sample_text = df['ticket_text'].iloc[0]\n",
        "print(\"Sample Ticket:\\n\", sample_text)\n",
        "\n",
        "print(\"\\nExtracted Entities:\")\n",
        "print(extract_entities(sample_text))\n"
      ],
      "metadata": {
        "colab": {
          "base_uri": "https://localhost:8080/"
        },
        "id": "5mosnQ4H8SeJ",
        "outputId": "706dcd43-a0f6-4fa0-bead-9aa1da0ed71a"
      },
      "execution_count": null,
      "outputs": [
        {
          "output_type": "stream",
          "name": "stdout",
          "text": [
            "Sample Ticket:\n",
            " Payment issue for my SmartWatch V2. I was underbilled for order #29224.\n",
            "\n",
            "Extracted Entities:\n",
            "{'product': ['SmartWatch V2'], 'dates': None, 'complaints': None}\n"
          ]
        }
      ]
    },
    {
      "cell_type": "markdown",
      "source": [
        "We now define a central function called predict_ticket_info() that takes raw customer support ticket text as input and returns a complete analysis. This includes predicting the issue type, the urgency level, and extracting relevant entities from the ticket.\n",
        "\n",
        "First, the text is cleaned using the same preprocessing steps we used during training. Then, we extract features: the TF-IDF vector, ticket length, and sentiment score. These are combined into the same format that our model was trained on.\n",
        "\n",
        "Using this processed input, the function makes predictions using the trained RandomForestClassifier models for both issue type and urgency level. Finally, it calls the earlier extract_entities() function to pull out product names, dates, and complaint keywords.\n",
        "\n",
        "All results are returned neatly as a dictionary, which makes it easy to display or plug into a user interface like Gradio.\n",
        "\n"
      ],
      "metadata": {
        "id": "nOAL5e4e3MX0"
      }
    },
    {
      "cell_type": "code",
      "source": [
        "def predict_ticket_info(text):\n",
        "    # Preprocess text\n",
        "    text_clean = clean_text(text)\n",
        "\n",
        "    # Feature extraction (must match what you used during training)\n",
        "    text_vector = tfidf.transform([text_clean]) # Use text_clean here as clean_text returns a string\n",
        "\n",
        "    # Calculate ticket length and sentiment for the input text\n",
        "    ticket_length = len(text_clean.split())\n",
        "    sentiment = TextBlob(text_clean).sentiment.polarity\n",
        "\n",
        "    # Combine TF-IDF with ticket_length and sentiment (reshape required for stacking)\n",
        "        X_predict_combined = hstack([\n",
        "        text_vector,\n",
        "        np.array([[ticket_length]]), # Reshape to (1, 1) for stacking\n",
        "        np.array([[sentiment]])      # Reshape to (1, 1) for stacking\n",
        "    ])\n",
        "\n",
        "    # Predict issue_type\n",
        "    issue_pred = issue_clf.predict(X_predict_combined)[0]\n",
        "\n",
        "    # Predict urgency_level\n",
        "    urgency_pred = urgency_clf.predict(X_predict_combined)[0]\n",
        "\n",
        "    # Extract entities\n",
        "    entities = extract_entities(text)\n",
        "\n",
        "    return {\n",
        "        'Predicted Issue Type': issue_labels[issue_pred], # Use issue_labels to get the string label\n",
        "        'Predicted Urgency Level': urgency_labels[urgency_pred], # Use urgency_labels to get the string label\n",
        "        'Extracted Entities': entities\n",
        "    }"
      ],
      "metadata": {
        "id": "TE0wSdD-Cn1G"
      },
      "execution_count": null,
      "outputs": []
    },
    {
      "cell_type": "markdown",
      "source": [
        "To see our complete prediction pipeline in action, we select another sample ticket from the dataset. This sample is passed to the predict_ticket_info() function, which performs all the processing steps—cleaning the text, extracting features, making predictions for both issue type and urgency level, and pulling out key entities.\n",
        "\n",
        "We then print the original ticket text followed by the model’s full output, which includes the predicted issue category, urgency classification, and the identified entities like product names, complaint keywords, or dates. This step is crucial to validate that everything works seamlessly together and produces meaningful results."
      ],
      "metadata": {
        "id": "6kQyvx6k3h2u"
      }
    },
    {
      "cell_type": "code",
      "source": [
        "sample_text = df['ticket_text'].iloc[10]\n",
        "result = predict_ticket_info(sample_text)\n",
        "\n",
        "print(\"Sample Ticket:\")\n",
        "print(sample_text)\n",
        "\n",
        "print(\"\\nPrediction Result:\")\n",
        "for k, v in result.items():\n",
        "    print(f\"{k}: {v}\")\n"
      ],
      "metadata": {
        "colab": {
          "base_uri": "https://localhost:8080/"
        },
        "id": "RLm1W6IACs3q",
        "outputId": "e5bf3e53-ba62-4d68-f755-0314e45d612a"
      },
      "execution_count": null,
      "outputs": [
        {
          "output_type": "stream",
          "name": "stdout",
          "text": [
            "Sample Ticket:\n",
            "Received wrong product, order mixed up. Also, I contacted support on 03 March but got no response.\n",
            "\n",
            "Prediction Result:\n",
            "Predicted Issue Type: Wrong Item\n",
            "Predicted Urgency Level: Medium\n",
            "Extracted Entities: {'product': None, 'dates': None, 'complaints': None}\n"
          ]
        }
      ]
    },
    {
      "cell_type": "markdown",
      "source": [
        "Finally, we integrate the entire machine learning and NLP pipeline into an interactive Gradio interface. This interface allows users to input a raw customer support ticket and receive immediate predictions and entity extractions. Specifically, when a user enters a ticket, the system processes the text, applies the same preprocessing steps used during training, and then classifies the ticket into its predicted issue type and urgency level. Additionally, it extracts relevant entities such as product names, dates, and complaint-related keywords. The Gradio app displays these results in a user-friendly format with clearly labeled output fields. This makes the tool not only functional but also accessible for non-technical users who may want to explore or validate ticket classifications without diving into the code."
      ],
      "metadata": {
        "id": "amlOaJYU-cgM"
      }
    },
    {
      "cell_type": "code",
      "source": [
        "import gradio as gr\n",
        "\n",
        "def gradio_interface(text):\n",
        "    result = predict_ticket_info(text)\n",
        "    return (\n",
        "        result['Predicted Issue Type'],\n",
        "        result['Predicted Urgency Level'],\n",
        "        result['Extracted Entities']\n",
        "    )\n",
        "\n",
        "gr.Interface(\n",
        "    fn=gradio_interface,\n",
        "    inputs=gr.Textbox(label=\"Enter Customer Support Ticket\"),\n",
        "    outputs=[\n",
        "        gr.Textbox(label=\"Predicted Issue Type\"),\n",
        "        gr.Textbox(label=\"Predicted Urgency Level\"),\n",
        "        gr.JSON(label=\"Extracted Entities\")\n",
        "    ],\n",
        "    title=\"Support Ticket Analyzer\",\n",
        "    description=\"Enter a ticket to classify its issue type and urgency, and extract important entities.\"\n",
        ").launch()\n"
      ],
      "metadata": {
        "colab": {
          "base_uri": "https://localhost:8080/",
          "height": 646
        },
        "id": "iUAq8J3jD_k7",
        "outputId": "82fe730c-0b58-4e56-eaca-e37cee28b3ac"
      },
      "execution_count": null,
      "outputs": [
        {
          "output_type": "stream",
          "name": "stdout",
          "text": [
            "It looks like you are running Gradio on a hosted a Jupyter notebook. For the Gradio app to work, sharing must be enabled. Automatically setting `share=True` (you can turn this off by setting `share=False` in `launch()` explicitly).\n",
            "\n",
            "Colab notebook detected. To show errors in colab notebook, set debug=True in launch()\n",
            "* Running on public URL: https://84a8ef9a4a5d71c948.gradio.live\n",
            "\n",
            "This share link expires in 1 week. For free permanent hosting and GPU upgrades, run `gradio deploy` from the terminal in the working directory to deploy to Hugging Face Spaces (https://huggingface.co/spaces)\n"
          ]
        },
        {
          "output_type": "display_data",
          "data": {
            "text/plain": [
              "<IPython.core.display.HTML object>"
            ],
            "text/html": [
              "<div><iframe src=\"https://84a8ef9a4a5d71c948.gradio.live\" width=\"100%\" height=\"500\" allow=\"autoplay; camera; microphone; clipboard-read; clipboard-write;\" frameborder=\"0\" allowfullscreen></iframe></div>"
            ]
          },
          "metadata": {}
        },
        {
          "output_type": "execute_result",
          "data": {
            "text/plain": []
          },
          "metadata": {},
          "execution_count": 56
        }
      ]
    }
  ]
}